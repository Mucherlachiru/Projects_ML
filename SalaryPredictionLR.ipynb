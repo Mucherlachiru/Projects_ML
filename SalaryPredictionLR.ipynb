{
 "cells": [
  {
   "cell_type": "code",
   "execution_count": 34,
   "id": "00a8f2a6",
   "metadata": {},
   "outputs": [],
   "source": [
    "import pandas as pd\n",
    "import numpy as np"
   ]
  },
  {
   "cell_type": "code",
   "execution_count": 35,
   "id": "6b47ca5e",
   "metadata": {},
   "outputs": [],
   "source": [
    "data=pd.read_csv(r'C:\\Users\\muche\\Downloads\\sal.csv')"
   ]
  },
  {
   "cell_type": "code",
   "execution_count": 36,
   "id": "5ea15b6e",
   "metadata": {},
   "outputs": [
    {
     "data": {
      "text/html": [
       "<div>\n",
       "<style scoped>\n",
       "    .dataframe tbody tr th:only-of-type {\n",
       "        vertical-align: middle;\n",
       "    }\n",
       "\n",
       "    .dataframe tbody tr th {\n",
       "        vertical-align: top;\n",
       "    }\n",
       "\n",
       "    .dataframe thead th {\n",
       "        text-align: right;\n",
       "    }\n",
       "</style>\n",
       "<table border=\"1\" class=\"dataframe\">\n",
       "  <thead>\n",
       "    <tr style=\"text-align: right;\">\n",
       "      <th></th>\n",
       "      <th>YearsExperience</th>\n",
       "      <th>Salary</th>\n",
       "    </tr>\n",
       "  </thead>\n",
       "  <tbody>\n",
       "    <tr>\n",
       "      <th>0</th>\n",
       "      <td>1.1</td>\n",
       "      <td>39343</td>\n",
       "    </tr>\n",
       "    <tr>\n",
       "      <th>1</th>\n",
       "      <td>1.3</td>\n",
       "      <td>46205</td>\n",
       "    </tr>\n",
       "    <tr>\n",
       "      <th>2</th>\n",
       "      <td>1.5</td>\n",
       "      <td>37731</td>\n",
       "    </tr>\n",
       "    <tr>\n",
       "      <th>3</th>\n",
       "      <td>2.0</td>\n",
       "      <td>43525</td>\n",
       "    </tr>\n",
       "    <tr>\n",
       "      <th>4</th>\n",
       "      <td>2.2</td>\n",
       "      <td>39891</td>\n",
       "    </tr>\n",
       "  </tbody>\n",
       "</table>\n",
       "</div>"
      ],
      "text/plain": [
       "   YearsExperience  Salary\n",
       "0              1.1   39343\n",
       "1              1.3   46205\n",
       "2              1.5   37731\n",
       "3              2.0   43525\n",
       "4              2.2   39891"
      ]
     },
     "execution_count": 36,
     "metadata": {},
     "output_type": "execute_result"
    }
   ],
   "source": [
    "data.head(5)"
   ]
  },
  {
   "cell_type": "code",
   "execution_count": 37,
   "id": "282f4c23",
   "metadata": {},
   "outputs": [
    {
     "data": {
      "text/html": [
       "<div>\n",
       "<style scoped>\n",
       "    .dataframe tbody tr th:only-of-type {\n",
       "        vertical-align: middle;\n",
       "    }\n",
       "\n",
       "    .dataframe tbody tr th {\n",
       "        vertical-align: top;\n",
       "    }\n",
       "\n",
       "    .dataframe thead th {\n",
       "        text-align: right;\n",
       "    }\n",
       "</style>\n",
       "<table border=\"1\" class=\"dataframe\">\n",
       "  <thead>\n",
       "    <tr style=\"text-align: right;\">\n",
       "      <th></th>\n",
       "      <th>YearsExperience</th>\n",
       "      <th>Salary</th>\n",
       "    </tr>\n",
       "  </thead>\n",
       "  <tbody>\n",
       "    <tr>\n",
       "      <th>count</th>\n",
       "      <td>35.000000</td>\n",
       "      <td>35.000000</td>\n",
       "    </tr>\n",
       "    <tr>\n",
       "      <th>mean</th>\n",
       "      <td>6.308571</td>\n",
       "      <td>83945.600000</td>\n",
       "    </tr>\n",
       "    <tr>\n",
       "      <th>std</th>\n",
       "      <td>3.618610</td>\n",
       "      <td>32162.673003</td>\n",
       "    </tr>\n",
       "    <tr>\n",
       "      <th>min</th>\n",
       "      <td>1.100000</td>\n",
       "      <td>37731.000000</td>\n",
       "    </tr>\n",
       "    <tr>\n",
       "      <th>25%</th>\n",
       "      <td>3.450000</td>\n",
       "      <td>57019.000000</td>\n",
       "    </tr>\n",
       "    <tr>\n",
       "      <th>50%</th>\n",
       "      <td>5.300000</td>\n",
       "      <td>81363.000000</td>\n",
       "    </tr>\n",
       "    <tr>\n",
       "      <th>75%</th>\n",
       "      <td>9.250000</td>\n",
       "      <td>113223.500000</td>\n",
       "    </tr>\n",
       "    <tr>\n",
       "      <th>max</th>\n",
       "      <td>13.500000</td>\n",
       "      <td>139465.000000</td>\n",
       "    </tr>\n",
       "  </tbody>\n",
       "</table>\n",
       "</div>"
      ],
      "text/plain": [
       "       YearsExperience         Salary\n",
       "count        35.000000      35.000000\n",
       "mean          6.308571   83945.600000\n",
       "std           3.618610   32162.673003\n",
       "min           1.100000   37731.000000\n",
       "25%           3.450000   57019.000000\n",
       "50%           5.300000   81363.000000\n",
       "75%           9.250000  113223.500000\n",
       "max          13.500000  139465.000000"
      ]
     },
     "execution_count": 37,
     "metadata": {},
     "output_type": "execute_result"
    }
   ],
   "source": [
    "data.describe()"
   ]
  },
  {
   "cell_type": "code",
   "execution_count": 38,
   "id": "3a067e9f",
   "metadata": {},
   "outputs": [
    {
     "name": "stdout",
     "output_type": "stream",
     "text": [
      "<class 'pandas.core.frame.DataFrame'>\n",
      "RangeIndex: 35 entries, 0 to 34\n",
      "Data columns (total 2 columns):\n",
      " #   Column           Non-Null Count  Dtype  \n",
      "---  ------           --------------  -----  \n",
      " 0   YearsExperience  35 non-null     float64\n",
      " 1   Salary           35 non-null     int64  \n",
      "dtypes: float64(1), int64(1)\n",
      "memory usage: 692.0 bytes\n"
     ]
    }
   ],
   "source": [
    "data.info()"
   ]
  },
  {
   "cell_type": "code",
   "execution_count": 45,
   "id": "f1c7f14a",
   "metadata": {},
   "outputs": [],
   "source": [
    "x=np.asanyarray(data[[\"YearsExperience\"]])"
   ]
  },
  {
   "cell_type": "code",
   "execution_count": 46,
   "id": "31575eb2",
   "metadata": {},
   "outputs": [
    {
     "data": {
      "text/plain": [
       "array([[ 1.1],\n",
       "       [ 1.3],\n",
       "       [ 1.5],\n",
       "       [ 2. ],\n",
       "       [ 2.2],\n",
       "       [ 2.9],\n",
       "       [ 3. ],\n",
       "       [ 3.2],\n",
       "       [ 3.2],\n",
       "       [ 3.7],\n",
       "       [ 3.9],\n",
       "       [ 4. ],\n",
       "       [ 4. ],\n",
       "       [ 4.1],\n",
       "       [ 4.5],\n",
       "       [ 4.9],\n",
       "       [ 5.1],\n",
       "       [ 5.3],\n",
       "       [ 5.9],\n",
       "       [ 6. ],\n",
       "       [ 6.8],\n",
       "       [ 7.1],\n",
       "       [ 7.9],\n",
       "       [ 8.2],\n",
       "       [ 8.7],\n",
       "       [ 9. ],\n",
       "       [ 9.5],\n",
       "       [ 9.6],\n",
       "       [10.3],\n",
       "       [10.5],\n",
       "       [11.2],\n",
       "       [11.5],\n",
       "       [12.3],\n",
       "       [12.9],\n",
       "       [13.5]])"
      ]
     },
     "execution_count": 46,
     "metadata": {},
     "output_type": "execute_result"
    }
   ],
   "source": [
    "x"
   ]
  },
  {
   "cell_type": "code",
   "execution_count": 47,
   "id": "c5f003ef",
   "metadata": {},
   "outputs": [],
   "source": [
    "y=np.asanyarray(data[[\"Salary\"]])"
   ]
  },
  {
   "cell_type": "code",
   "execution_count": 48,
   "id": "64e3b71e",
   "metadata": {},
   "outputs": [
    {
     "data": {
      "text/plain": [
       "array([[ 39343],\n",
       "       [ 46205],\n",
       "       [ 37731],\n",
       "       [ 43525],\n",
       "       [ 39891],\n",
       "       [ 56642],\n",
       "       [ 60150],\n",
       "       [ 54445],\n",
       "       [ 64445],\n",
       "       [ 57189],\n",
       "       [ 63218],\n",
       "       [ 55794],\n",
       "       [ 56957],\n",
       "       [ 57081],\n",
       "       [ 61111],\n",
       "       [ 67938],\n",
       "       [ 66029],\n",
       "       [ 83088],\n",
       "       [ 81363],\n",
       "       [ 93940],\n",
       "       [ 91738],\n",
       "       [ 98273],\n",
       "       [101302],\n",
       "       [113812],\n",
       "       [109431],\n",
       "       [105582],\n",
       "       [116969],\n",
       "       [112635],\n",
       "       [122391],\n",
       "       [121872],\n",
       "       [127345],\n",
       "       [126756],\n",
       "       [128765],\n",
       "       [135675],\n",
       "       [139465]], dtype=int64)"
      ]
     },
     "execution_count": 48,
     "metadata": {},
     "output_type": "execute_result"
    }
   ],
   "source": [
    "y"
   ]
  },
  {
   "cell_type": "code",
   "execution_count": 58,
   "id": "66d334fb",
   "metadata": {},
   "outputs": [
    {
     "data": {
      "text/plain": [
       "[]"
      ]
     },
     "execution_count": 58,
     "metadata": {},
     "output_type": "execute_result"
    },
    {
     "data": {
      "image/png": "[encoded data removed]",
      "text/plain": [
       "<Figure size 640x480 with 1 Axes>"
      ]
     },
     "metadata": {},
     "output_type": "display_data"
    }
   ],
   "source": [
    "import matplotlib.pyplot as plt\n",
    "import seaborn as sns\n",
    "sns.lineplot(x=\"YearsExperience\",y=\"Salary\",data=data.head(30))\n",
    "plt.plot()"
   ]
  },
  {
   "cell_type": "code",
   "execution_count": 51,
   "id": "61dee8c4",
   "metadata": {},
   "outputs": [
    {
     "name": "stdout",
     "output_type": "stream",
     "text": [
      "0 0.9737903397670057\n",
      "1 0.9448317726631419\n",
      "2 0.9585383831236097\n",
      "3 0.9487596207186936\n",
      "4 0.9360791762745696\n",
      "5 0.9577873075102648\n",
      "6 0.9440946361046655\n",
      "7 0.973359938160817\n",
      "8 0.9714826642227166\n",
      "9 0.9639612624802876\n",
      "10 0.9440216600914846\n",
      "11 0.9651580538143538\n",
      "12 0.9589719051060085\n",
      "13 0.9464827747354299\n",
      "14 0.9808741774036802\n",
      "15 0.9534705833086216\n",
      "16 0.9471016705607141\n",
      "17 0.9306113641111917\n",
      "18 0.9562108387788577\n",
      "19 0.9720051151473237\n",
      "20 0.9508478595666056\n",
      "21 0.9654796866429765\n",
      "22 0.9566768477958493\n",
      "23 0.9474341440513735\n",
      "24 0.9545036322478986\n",
      "25 0.9621849757073313\n",
      "26 0.9810125879102284\n",
      "27 0.971523671221465\n",
      "28 0.9645595846556884\n",
      "29 0.9555051116244895\n",
      "30 0.969887887342894\n",
      "31 0.9668139145773014\n",
      "32 0.9657199906438438\n",
      "33 0.9465185557645095\n",
      "34 0.9519605180893429\n",
      "35 0.8942665480671887\n",
      "36 0.9440805212704483\n",
      "37 0.7946592879106169\n",
      "38 0.9751338196135606\n",
      "39 0.9492214054335917\n",
      "40 0.964866727925538\n",
      "41 0.9714186228542603\n",
      "42 0.9395437650018967\n",
      "43 0.9715499997179803\n",
      "44 0.9617901460536697\n",
      "45 0.9601246883239776\n",
      "46 0.9461489420497797\n",
      "47 0.9731464688262074\n",
      "48 0.9348885310911255\n",
      "49 0.9542079510379355\n",
      "50 0.8706047715882327\n",
      "51 0.9695911430094223\n",
      "52 0.9216102892459666\n",
      "53 0.9590091110557807\n",
      "54 0.953084887786677\n",
      "55 0.93761871048881\n",
      "56 0.9538237459207464\n",
      "57 0.9693550845411812\n",
      "58 0.9525671183186284\n",
      "59 0.9661673802920943\n",
      "60 0.9654575362011683\n",
      "61 0.9703911343406254\n",
      "62 0.977674041788831\n",
      "63 0.9746226977227779\n",
      "64 0.9645781564274636\n",
      "65 0.9425402675476345\n",
      "66 0.9759246274535891\n",
      "67 0.9594517249440989\n",
      "68 0.9424461209279782\n",
      "69 0.9529487397181188\n",
      "70 0.9557836825797961\n",
      "71 0.9818661997708906\n",
      "72 0.9532728066807402\n",
      "73 0.9701369312007813\n",
      "74 0.949853872257765\n",
      "75 0.9721443448353632\n",
      "76 0.8880467408262992\n",
      "77 0.9646925884026784\n",
      "78 0.9653466288120954\n",
      "79 0.9609515071750889\n",
      "80 0.9730762955738782\n",
      "81 0.9693521837335465\n",
      "82 0.909785775277081\n",
      "83 0.9593193088492358\n",
      "84 0.9639636152669473\n",
      "85 0.9427280844177892\n",
      "86 0.9651185529871266\n",
      "87 0.976319414206646\n",
      "88 0.9355016216710065\n",
      "89 0.9636072652265393\n",
      "90 0.9520048879105606\n",
      "91 0.9667220641898544\n",
      "92 0.9556335831843131\n",
      "93 0.9717489529356695\n",
      "94 0.9569554579186845\n",
      "95 0.9562893622698115\n",
      "96 0.9591958876056179\n",
      "97 0.9667242779708711\n",
      "98 0.9219715784537404\n",
      "99 0.9478130711919701\n"
     ]
    }
   ],
   "source": [
    "from sklearn.model_selection import train_test_split\n",
    "from sklearn.linear_model import LinearRegression\n",
    "from sklearn.metrics import r2_score\n",
    "for i in range(100):\n",
    "    X_train,X_test,Y_train,Y_test=train_test_split(x,y,test_size=0.33,random_state=i)\n",
    "    reg=LinearRegression()\n",
    "    reg.fit(X_train,Y_train)\n",
    "    ypred=reg.predict(X_test)\n",
    "    print(i,r2_score(Y_test,ypred))"
   ]
  },
  {
   "cell_type": "code",
   "execution_count": 52,
   "id": "77bc4439",
   "metadata": {},
   "outputs": [
    {
     "data": {
      "text/plain": [
       "0.9808741774036802"
      ]
     },
     "execution_count": 52,
     "metadata": {},
     "output_type": "execute_result"
    }
   ],
   "source": [
    "from sklearn.model_selection import train_test_split\n",
    "from sklearn.linear_model import LinearRegression\n",
    "from sklearn.metrics import r2_score\n",
    "X_train,X_test,Y_train,Y_test=train_test_split(x,y,test_size=0.33,random_state=14)\n",
    "reg=LinearRegression()\n",
    "reg.fit(X_train,Y_train)\n",
    "ypred=reg.predict(X_test)\n",
    "r2_score(Y_test,ypred)"
   ]
  },
  {
   "cell_type": "code",
   "execution_count": 53,
   "id": "8c7c02aa",
   "metadata": {},
   "outputs": [
    {
     "data": {
      "text/plain": [
       "22915607.757739935"
      ]
     },
     "execution_count": 53,
     "metadata": {},
     "output_type": "execute_result"
    }
   ],
   "source": [
    "from sklearn.metrics import mean_squared_error\n",
    "mean_squared_error(Y_test,ypred)"
   ]
  },
  {
   "cell_type": "code",
   "execution_count": 55,
   "id": "56bb0f7d",
   "metadata": {},
   "outputs": [
    {
     "name": "stdout",
     "output_type": "stream",
     "text": [
      "Years of experience:1.5\n",
      "Salary: [[42466.38016354]]\n"
     ]
    }
   ],
   "source": [
    "a=float(input(\"Years of experience:\"))\n",
    "f=np.array([[a]])\n",
    "print(\"Salary:\",reg.predict(f))"
   ]
  },
  {
   "cell_type": "code",
   "execution_count": 68,
   "id": "83a958fd",
   "metadata": {},
   "outputs": [
    {
     "data": {
      "text/plain": [
       "12"
      ]
     },
     "execution_count": 68,
     "metadata": {},
     "output_type": "execute_result"
    }
   ],
   "source": [
    "len(Y_test)"
   ]
  },
  {
   "cell_type": "code",
   "execution_count": 69,
   "id": "f49e4bfb",
   "metadata": {},
   "outputs": [
    {
     "data": {
      "text/plain": [
       "12"
      ]
     },
     "execution_count": 69,
     "metadata": {},
     "output_type": "execute_result"
    }
   ],
   "source": [
    "len(ypred)"
   ]
  },
  {
   "cell_type": "code",
   "execution_count": 73,
   "id": "0821e702",
   "metadata": {},
   "outputs": [
    {
     "data": {
      "text/plain": [
       "[]"
      ]
     },
     "execution_count": 73,
     "metadata": {},
     "output_type": "execute_result"
    },
    {
     "data": {
      "image/png": "[encoded data removed]",
      "text/plain": [
       "<Figure size 640x480 with 1 Axes>"
      ]
     },
     "metadata": {},
     "output_type": "display_data"
    }
   ],
   "source": [
    "import matplotlib.pyplot as plt\n",
    "import seaborn as sns\n",
    "x=np.arange(12)\n",
    "y=np.array(Y_test)\n",
    "plt.xlabel(\"Id\")\n",
    "plt.ylabel(\"Salary\")\n",
    "plt.plot(x,y,color=\"red\")\n",
    "x=np.arange(12)\n",
    "y=np.array(ypred)\n",
    "plt.plot(x,y,color=\"blue\")\n",
    "plt.plot()"
   ]
  },
  {
   "cell_type": "code",
   "execution_count": null,
   "id": "94819c7d",
   "metadata": {},
   "outputs": [],
   "source": []
  }
 ],
 "metadata": {
  "kernelspec": {
   "display_name": "Python 3 (ipykernel)",
   "language": "python",
   "name": "python3"
  },
  "language_info": {
   "codemirror_mode": {
    "name": "ipython",
    "version": 3
   },
   "file_extension": ".py",
   "mimetype": "text/x-python",
   "name": "python",
   "nbconvert_exporter": "python",
   "pygments_lexer": "ipython3",
   "version": "3.11.5"
  }
 },
 "nbformat": 4,
 "nbformat_minor": 5
}
